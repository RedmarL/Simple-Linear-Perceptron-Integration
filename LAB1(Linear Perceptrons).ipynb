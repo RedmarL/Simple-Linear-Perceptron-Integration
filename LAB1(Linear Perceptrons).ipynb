{
 "cells": [
  {
   "cell_type": "markdown",
   "metadata": {
    "pycharm": {
     "name": "#%% md\n"
    }
   },
   "source": [
    "# Lab 1\n",
    "### Introduction to Machine Learning, 2021-2022 period 4\n",
    "\n",
    "Lab1 is meant to help you get oriented to the programming part of the course, by implementing a simple perceptron."
   ]
  },
  {
   "cell_type": "markdown",
   "metadata": {
    "tags": [],
    "pycharm": {
     "name": "#%% md\n"
    }
   },
   "source": [
    "**1.** Implement the *perceptron learning algorithm* (PLA) (section 1.1.2 in the book) in Python"
   ]
  },
  {
   "cell_type": "code",
   "execution_count": 12,
   "metadata": {
    "pycharm": {
     "name": "#%%\n"
    }
   },
   "outputs": [],
   "source": [
    "import numpy as np"
   ]
  },
  {
   "cell_type": "code",
   "execution_count": 13,
   "metadata": {
    "pycharm": {
     "name": "#%%\n"
    }
   },
   "outputs": [],
   "source": [
    "def sign(val: float) -> int:\n",
    "    if np.any(val > 0):\n",
    "        return 1\n",
    "    else:\n",
    "        return -1\n",
    "    \n",
    "def initialize_weights(d: int) -> tuple:\n",
    "    # This initializes a d-dimensional tuple with 0 in all the dimensions\n",
    "    return tuple([0 for _ in range(d)])\n",
    "\n",
    "def perceptron(x: tuple, w: tuple) -> int:\n",
    "    \"\"\"\n",
    "    x is a tuple of coordinates; the 0th element is 1. For example, x could be (1, -3.43, 0.75)\n",
    "    w is a tuple of weights; the 0th element is the bias. For example, w could be (-0.83, 10.96, 1.06)\n",
    "    \n",
    "    The return value h should be a hypothesis (+1 or -1) for the datapoint x given the weights w\n",
    "    \"\"\"\n",
    "    \n",
    "    totaal = 0\n",
    "    x = np.array(x)\n",
    "    w = np.array(w)\n",
    "    h = w*x\n",
    "    \n",
    "    for n in h:\n",
    "        totaal = totaal + n\n",
    "    h = sign(totaal)\n",
    "    return h\n",
    "\n",
    "def update_weights(x_t: tuple, y_t: int, w_t: tuple) -> tuple:\n",
    "    \"\"\"\n",
    "    This is the update rule for the PLA; Eq. 1.3 in the book\n",
    "    The return value w_t_plus_1 should be the updated weights (w0, w1, w2) at iteration step t+1\n",
    "    \"\"\"\n",
    "    \n",
    "    w0 = w_t[0]+y_t*x_t[0]\n",
    "    w1 = w_t[1]+y_t*x_t[1]\n",
    "    w2 = w_t[2]+y_t*x_t[2]\n",
    "    w_t_plus_1 = [w0,w1,w2]\n",
    "    return w_t_plus_1\n",
    "\n",
    "\n",
    "def learn_weights(xn: list, yn: list) -> tuple:\n",
    "    \"\"\"\n",
    "    This is the main body of the perceptron learning algorithm\n",
    "    xn is a list of datapoints, each of which is a 3-dimensional tuple containing the coordinates for that point\n",
    "    (remember the 0th coordinate is equal to 1)\n",
    "    yn is a list of labels (+1 or -1) for the datapoints\n",
    "    \n",
    "    This function should call the functions above\n",
    "    \n",
    "    The number of iterations t required for convergence should be printed to the screen before exiting\n",
    "    \n",
    "    The return value w should be a tuple containing the learned weights (w0, w1, w2)\n",
    "    \"\"\"\n",
    "    w = initialize_weights(3)\n",
    "    t = 0\n",
    "    count = len(xn)\n",
    "    while count !=0 :\n",
    "        count = len(xn)\n",
    "        for n in range(len(xn)):\n",
    "                outp = perceptron(xn[n],w)\n",
    "                if outp == yn[n]:\n",
    "                    count -= 1\n",
    "                    continue\n",
    "                else:\n",
    "                    w = update_weights(xn[n], yn[n], w)\n",
    "\n",
    "        t += 1\n",
    "    print(f'Converged in {t} iterations')\n",
    "    return w"
   ]
  },
  {
   "cell_type": "markdown",
   "metadata": {
    "pycharm": {
     "name": "#%% md\n"
    }
   },
   "source": [
    "Test your program on a toy dataset of 3 datapoints. Create these datapoints and run your program:\n",
    "\n",
    "(1, 0.5, 1.5) -> +1\n",
    "\n",
    "(1, 4.3, -0.3) -> -1\n",
    "\n",
    "(1, -3.2, 2.2) -> +1"
   ]
  },
  {
   "cell_type": "code",
   "execution_count": 14,
   "metadata": {
    "pycharm": {
     "name": "#%%\n"
    }
   },
   "outputs": [
    {
     "name": "stdout",
     "output_type": "stream",
     "text": [
      "Converged in 1 iterations\n"
     ]
    }
   ],
   "source": [
    "x3 = (1,-3.2,2.2)\n",
    "y3 = [-1]\n",
    "w = learn_weights([x3], y3)"
   ]
  },
  {
   "cell_type": "markdown",
   "metadata": {
    "pycharm": {
     "name": "#%% md\n"
    }
   },
   "source": [
    "**2.** Generate a linearly separable dataset in two dimensions: Choose a random \n",
    "line in the plane as the target function, where one side of the line maps \n",
    "to +1 and the other maps to -1. Choose the inputs $x_n$ ($n=20$) to be random points \n",
    "in the plane, and evaluate the target function on each $x_n$ to get the \n",
    "corresponding output $y_n$."
   ]
  },
  {
   "cell_type": "code",
   "execution_count": 15,
   "metadata": {
    "pycharm": {
     "name": "#%%\n"
    }
   },
   "outputs": [],
   "source": [
    "import random\n",
    "\n",
    "SLOPE, INTERCEPT = random.uniform(-10, 10), random.uniform(-10, 10)\n",
    "\n",
    "MAX_VAL = 100\n",
    "\n",
    "def get_random_point():\n",
    "    x1 = random.uniform(-MAX_VAL, MAX_VAL)\n",
    "    x2 = random.uniform(-MAX_VAL, MAX_VAL)\n",
    "    return (1, x1, x2)\n",
    "\n",
    "def target(x):\n",
    "    \"\"\"\n",
    "    x is a datapoint; it is expressed as a tuple of the form (1, x1, x2)\n",
    "    \"\"\"\n",
    "    if x[2] > SLOPE * x[1] + INTERCEPT:\n",
    "        return 1\n",
    "    else:\n",
    "        return -1\n",
    "    \n",
    "def generate_data(n: int) -> tuple:\n",
    "    \"\"\"\n",
    "    n is the number of datapoints you want to generate\n",
    "    The return value should be a tuple with two elements (xn, yn), where xn and yn are both lists of length n\n",
    "    \"\"\"\n",
    "    # FILL IN\n",
    "    i = 0\n",
    "    xn = []\n",
    "    yn = []\n",
    "    while i<n:\n",
    "        p = get_random_point()\n",
    "        xn.append(p)\n",
    "        i += 1\n",
    "    for coordinate in xn:\n",
    "        t = target(coordinate)\n",
    "        yn.append(t)\n",
    "    return xn, yn\n",
    "\n"
   ]
  },
  {
   "cell_type": "code",
   "execution_count": 16,
   "metadata": {
    "pycharm": {
     "name": "#%%\n"
    }
   },
   "outputs": [],
   "source": [
    "x20, y20 = generate_data(20)"
   ]
  },
  {
   "cell_type": "markdown",
   "metadata": {
    "pycharm": {
     "name": "#%% md\n"
    }
   },
   "source": [
    "**3.** Plot the examples ${(x_n, y_n)}$ as well as the target function \n",
    "(use `matplotlib`)"
   ]
  },
  {
   "cell_type": "code",
   "execution_count": 17,
   "outputs": [
    {
     "data": {
      "text/plain": "<Figure size 432x288 with 1 Axes>",
      "image/png": "[encoded data removed]"
     },
     "metadata": {
      "needs_background": "light"
     },
     "output_type": "display_data"
    }
   ],
   "source": [
    "import matplotlib.pyplot as plt\n",
    "import numpy as np\n",
    "\n",
    "def get_plot_markers(yn: list) -> list:\n",
    "    \"\"\"\n",
    "    Return a list of different markers for +1 and -1 samples\n",
    "    The return value plot_marker should be a list of length n containing markers\n",
    "    Each marker is a 1-character string\n",
    "    There should be 1 marker for +1 and 1 marker for -1\n",
    "    \"\"\"\n",
    "    # FILL IN\n",
    "    plot_marker=[]\n",
    "    for uitkomst in yn:\n",
    "        if uitkomst == 1:\n",
    "            marker = \"*\"\n",
    "            plot_marker.append(marker)\n",
    "        if uitkomst == -1:\n",
    "            marker = \"+\"\n",
    "            plot_marker.append(marker)\n",
    "    return plot_marker\n",
    "\n",
    "def plot(xn, yn):\n",
    "    # The x axis should be the x1 axis of the data\n",
    "    # The y axis should be the x2 axis of the data\n",
    "    # The marker should be different for +1 and -1 samples\n",
    "\n",
    "    plot_x = [x[1] for x in xn]\n",
    "    plot_y = [x[2] for x in xn]\n",
    "    plot_marker = get_plot_markers(yn)\n",
    "\n",
    "    # Plot the markers of the datapoints\n",
    "    fig, ax = plt.subplots()\n",
    "    for xp, yp, m in zip(plot_x, plot_y, plot_marker):\n",
    "        ax.scatter([xp],[yp], marker=m, color='k')\n",
    "\n",
    "    # Add the random line used to generate the target function (HINT: use SLOPE and INTERCEPT)\n",
    "    # FILL IN\n",
    "    x = np.linspace(-100,100,100)\n",
    "    yr = SLOPE*x+INTERCEPT\n",
    "    plt.plot(x,yr,'c', label='Target function')\n",
    "\n",
    "\n",
    "    # Add axis labels and a legend\n",
    "    plt.ylabel('x2')\n",
    "    plt.xlabel('x1')\n",
    "    plt.legend()\n",
    "    plt.xlim(-MAX_VAL, MAX_VAL)\n",
    "    plt.ylim(-MAX_VAL, MAX_VAL)\n",
    "    plt.show()\n",
    "\n",
    "plot(x20, y20)"
   ],
   "metadata": {
    "collapsed": false,
    "pycharm": {
     "name": "#%%\n"
    }
   }
  },
  {
   "cell_type": "markdown",
   "source": [
    "4.Run the perceptron algorithm on the above dataset, and add the hypothesis\n",
    "to the plot. Report the number of iterations."
   ],
   "metadata": {
    "collapsed": false,
    "pycharm": {
     "name": "#%% md\n"
    }
   }
  },
  {
   "cell_type": "code",
   "execution_count": 18,
   "metadata": {
    "pycharm": {
     "name": "#%%\n"
    }
   },
   "outputs": [
    {
     "name": "stdout",
     "output_type": "stream",
     "text": [
      "Converged in 2 iterations\n"
     ]
    }
   ],
   "source": [
    "w = learn_weights(x20,y20)"
   ]
  },
  {
   "cell_type": "code",
   "execution_count": 19,
   "outputs": [
    {
     "data": {
      "text/plain": "<Figure size 432x288 with 1 Axes>",
      "image/png": "[encoded data removed]"
     },
     "metadata": {
      "needs_background": "light"
     },
     "output_type": "display_data"
    }
   ],
   "source": [
    "def plot(xn, yn, w):\n",
    "    # The x axis should be the x1 axis of the data\n",
    "    # The y axis should be the x2 axis of the data\n",
    "    # The marker should be different for +1 and -1 samples\n",
    "\n",
    "    plot_x = [x[1] for x in xn]\n",
    "    plot_y = [x[2] for x in xn]\n",
    "    plot_marker = get_plot_markers(yn)\n",
    "\n",
    "    # Plot the markers of the datapoints\n",
    "    fig, ax = plt.subplots()\n",
    "    for xp, yp, m in zip(plot_x, plot_y, plot_marker):\n",
    "        ax.scatter([xp],[yp], marker=m, color='k')\n",
    "\n",
    "    # Add the random line used to generate the target function (HINT: use SLOPE and INTERCEPT)\n",
    "    x = np.linspace(-100,100,100)\n",
    "    #SLOPE, INTERCEPT = random.uniform(-10, 10), random.uniform(-10, 10)\n",
    "    yr = SLOPE*x+INTERCEPT\n",
    "    plt.plot(x,yr,'c', label='Target function')\n",
    "\n",
    "    # Add the learned hypothesis\n",
    "    # To plot the hypothesis, we need to convert the weights w0, w1, w2 into a line\n",
    "    # HINT: you are looking for the line w0 + w1x1 + w2x2 = 0\n",
    "    y = (-w[1]/w[2])*x+(-w[0]/w[2])\n",
    "    plt.plot(x,y,'m',label='Hypothesis')\n",
    "\n",
    "    # Add axis labels and a legend\n",
    "    plt.ylabel('x2')\n",
    "    plt.xlabel('x1')\n",
    "    plt.legend()\n",
    "    plt.xlim(-MAX_VAL, MAX_VAL)\n",
    "    plt.ylim(-MAX_VAL, MAX_VAL)\n",
    "    plt.show()\n",
    "\n",
    "plot(x20, y20, w)"
   ],
   "metadata": {
    "collapsed": false,
    "pycharm": {
     "name": "#%%\n"
    }
   }
  },
  {
   "cell_type": "markdown",
   "metadata": {
    "pycharm": {
     "name": "#%% md\n"
    }
   },
   "source": [
    "**5.** Generate another random dataset of 20 points, and repeat. Compare with the above results. "
   ]
  },
  {
   "cell_type": "code",
   "execution_count": 20,
   "metadata": {
    "pycharm": {
     "name": "#%%\n"
    }
   },
   "outputs": [
    {
     "name": "stdout",
     "output_type": "stream",
     "text": [
      "Converged in 3 iterations\n"
     ]
    },
    {
     "data": {
      "text/plain": "<Figure size 432x288 with 1 Axes>",
      "image/png": "[encoded data removed]"
     },
     "metadata": {
      "needs_background": "light"
     },
     "output_type": "display_data"
    }
   ],
   "source": [
    "# FILL IN\n",
    "# Use the same functions provided above\n",
    "x20, y20 = generate_data(20)\n",
    "w = learn_weights(x20,y20)\n",
    "plot(x20, y20, w)"
   ]
  },
  {
   "cell_type": "markdown",
   "metadata": {
    "pycharm": {
     "name": "#%% md\n"
    }
   },
   "source": [
    "**6.** General a dataset of 1000 points and repeat. Compare with above results."
   ]
  },
  {
   "cell_type": "code",
   "execution_count": null,
   "outputs": [],
   "source": [
    "# FILL IN\n",
    "# Use the same functions provided above\n",
    "x1000, y1000 = generate_data(1000)\n",
    "w = learn_weights(x1000,y1000)\n",
    "plot(x1000, y1000, w)"
   ],
   "metadata": {
    "collapsed": false,
    "pycharm": {
     "name": "#%%\n",
     "is_executing": true
    }
   }
  },
  {
   "cell_type": "markdown",
   "metadata": {
    "pycharm": {
     "name": "#%% md\n"
    }
   },
   "source": [
    "What can you say about what happens when you increase the number of datapoints?"
   ]
  },
  {
   "cell_type": "code",
   "execution_count": null,
   "metadata": {
    "pycharm": {
     "name": "#%%\n",
     "is_executing": true
    }
   },
   "outputs": [],
   "source": [
    "print(\"When you increase the number of points, the hypothesis after 1 update of weights approaches the target function better.\")"
   ]
  }
 ],
 "metadata": {
  "kernelspec": {
   "display_name": "Python 3 (ipykernel)",
   "language": "python",
   "name": "python3"
  },
  "language_info": {
   "codemirror_mode": {
    "name": "ipython",
    "version": 3
   },
   "file_extension": ".py",
   "mimetype": "text/x-python",
   "name": "python",
   "nbconvert_exporter": "python",
   "pygments_lexer": "ipython3",
   "version": "3.9.7"
  }
 },
 "nbformat": 4,
 "nbformat_minor": 4
}