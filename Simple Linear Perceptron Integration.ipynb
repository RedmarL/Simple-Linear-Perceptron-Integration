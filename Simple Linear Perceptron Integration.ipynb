{
 "cells": [
  {
   "cell_type": "code",
   "execution_count": 1,
   "metadata": {
    "pycharm": {
     "name": "#%%\n"
    }
   },
   "outputs": [],
   "source": [
    "import numpy as np"
   ]
  },
  {
   "cell_type": "code",
   "execution_count": 2,
   "metadata": {
    "pycharm": {
     "name": "#%%\n"
    }
   },
   "outputs": [],
   "source": [
    "def sign(val: float) -> int:\n",
    "    if np.any(val > 0):\n",
    "        return 1\n",
    "    else:\n",
    "        return -1\n",
    "    \n",
    "def initialize_weights(d: int) -> tuple:\n",
    "    # This initializes a d-dimensional tuple with 0 in all the dimensions\n",
    "    return tuple([0 for _ in range(d)])\n",
    "\n",
    "def perceptron(x: tuple, w: tuple) -> int:\n",
    "    \n",
    "    totaal = 0\n",
    "    x = np.array(x)\n",
    "    w = np.array(w)\n",
    "    h = w*x\n",
    "    \n",
    "    for n in h:\n",
    "        totaal = totaal + n\n",
    "    h = sign(totaal)\n",
    "    return h\n",
    "\n",
    "def update_weights(x_t: tuple, y_t: int, w_t: tuple) -> tuple:\n",
    "    \n",
    "    w0 = w_t[0]+y_t*x_t[0]\n",
    "    w1 = w_t[1]+y_t*x_t[1]\n",
    "    w2 = w_t[2]+y_t*x_t[2]\n",
    "    w_t_plus_1 = [w0,w1,w2]\n",
    "    return w_t_plus_1\n",
    "\n",
    "\n",
    "def learn_weights(xn: list, yn: list) -> tuple:\n",
    "\n",
    "    w = initialize_weights(3)\n",
    "    t = 0\n",
    "    count = len(xn)\n",
    "    while count !=0 :\n",
    "        count = len(xn)\n",
    "        for n in range(len(xn)):\n",
    "                outp = perceptron(xn[n],w)\n",
    "                if outp == yn[n]:\n",
    "                    count -= 1\n",
    "                    continue\n",
    "                else:\n",
    "                    w = update_weights(xn[n], yn[n], w)\n",
    "\n",
    "        t += 1\n",
    "    print(f'Converged in {t} iterations')\n",
    "    return w"
   ]
  },
  {
   "cell_type": "code",
   "execution_count": 3,
   "metadata": {
    "pycharm": {
     "name": "#%%\n"
    }
   },
   "outputs": [],
   "source": [
    "import random\n",
    "\n",
    "SLOPE, INTERCEPT = random.uniform(-10, 10), random.uniform(-10, 10)\n",
    "\n",
    "MAX_VAL = 100\n",
    "\n",
    "def get_random_point():\n",
    "    x1 = random.uniform(-MAX_VAL, MAX_VAL)\n",
    "    x2 = random.uniform(-MAX_VAL, MAX_VAL)\n",
    "    return (1, x1, x2)\n",
    "\n",
    "def target(x):\n",
    "\n",
    "    if x[2] > SLOPE * x[1] + INTERCEPT:\n",
    "        return 1\n",
    "    else:\n",
    "        return -1\n",
    "    \n",
    "def generate_data(n: int) -> tuple:\n",
    "\n",
    "\n",
    "    i = 0\n",
    "    xn = []\n",
    "    yn = []\n",
    "    while i<n:\n",
    "        p = get_random_point()\n",
    "        xn.append(p)\n",
    "        i += 1\n",
    "    for coordinate in xn:\n",
    "        t = target(coordinate)\n",
    "        yn.append(t)\n",
    "    return xn, yn\n",
    "\n"
   ]
  },
  {
   "cell_type": "markdown",
   "source": [
    "Generate the desired amount of datapoints."
   ],
   "metadata": {
    "collapsed": false,
    "pycharm": {
     "name": "#%% md\n"
    }
   }
  },
  {
   "cell_type": "code",
   "execution_count": 4,
   "metadata": {
    "pycharm": {
     "name": "#%%\n"
    }
   },
   "outputs": [],
   "source": [
    "x20, y20 = generate_data(20)"
   ]
  },
  {
   "cell_type": "code",
   "execution_count": 5,
   "outputs": [
    {
     "data": {
      "text/plain": "<Figure size 432x288 with 1 Axes>",
      "image/png": "[encoded data removed]"
     },
     "metadata": {
      "needs_background": "light"
     },
     "output_type": "display_data"
    }
   ],
   "source": [
    "import matplotlib.pyplot as plt\n",
    "import numpy as np\n",
    "\n",
    "def get_plot_markers(yn: list) -> list:\n",
    "\n",
    "    plot_marker=[]\n",
    "    for uitkomst in yn:\n",
    "        if uitkomst == 1:\n",
    "            marker = \"*\"\n",
    "            plot_marker.append(marker)\n",
    "        if uitkomst == -1:\n",
    "            marker = \"+\"\n",
    "            plot_marker.append(marker)\n",
    "    return plot_marker\n",
    "\n",
    "def plot(xn, yn):\n",
    "    # The x axis should be the x1 axis of the data\n",
    "    # The y axis should be the x2 axis of the data\n",
    "    # The marker should be different for +1 and -1 samples\n",
    "\n",
    "    plot_x = [x[1] for x in xn]\n",
    "    plot_y = [x[2] for x in xn]\n",
    "    plot_marker = get_plot_markers(yn)\n",
    "\n",
    "    # Plot the markers of the datapoints\n",
    "    fig, ax = plt.subplots()\n",
    "    for xp, yp, m in zip(plot_x, plot_y, plot_marker):\n",
    "        ax.scatter([xp],[yp], marker=m, color='k')\n",
    "\n",
    "    # Add the random line used to generate the target function (HINT: use SLOPE and INTERCEPT)\n",
    "    x = np.linspace(-100,100,100)\n",
    "    yr = SLOPE*x+INTERCEPT\n",
    "    plt.plot(x,yr,'c', label='Target function')\n",
    "\n",
    "\n",
    "    # Add axis labels and a legend\n",
    "    plt.ylabel('x2')\n",
    "    plt.xlabel('x1')\n",
    "    plt.legend()\n",
    "    plt.xlim(-MAX_VAL, MAX_VAL)\n",
    "    plt.ylim(-MAX_VAL, MAX_VAL)\n",
    "    plt.show()\n",
    "\n",
    "plot(x20, y20)"
   ],
   "metadata": {
    "collapsed": false,
    "pycharm": {
     "name": "#%%\n"
    }
   }
  },
  {
   "cell_type": "markdown",
   "source": [
    "Learn the weights for your hypothesis."
   ],
   "metadata": {
    "collapsed": false,
    "pycharm": {
     "name": "#%% md\n"
    }
   }
  },
  {
   "cell_type": "code",
   "execution_count": 6,
   "metadata": {
    "pycharm": {
     "name": "#%%\n"
    }
   },
   "outputs": [
    {
     "name": "stdout",
     "output_type": "stream",
     "text": [
      "Converged in 2 iterations\n"
     ]
    }
   ],
   "source": [
    "w = learn_weights(x20,y20)"
   ]
  },
  {
   "cell_type": "code",
   "execution_count": 7,
   "outputs": [
    {
     "data": {
      "text/plain": "<Figure size 432x288 with 1 Axes>",
      "image/png": "[encoded data removed]"
     },
     "metadata": {
      "needs_background": "light"
     },
     "output_type": "display_data"
    }
   ],
   "source": [
    "def plot(xn, yn, w):\n",
    "    # The x axis should be the x1 axis of the data\n",
    "    # The y axis should be the x2 axis of the data\n",
    "    # The marker should be different for +1 and -1 samples\n",
    "\n",
    "    plot_x = [x[1] for x in xn]\n",
    "    plot_y = [x[2] for x in xn]\n",
    "    plot_marker = get_plot_markers(yn)\n",
    "\n",
    "    # Plot the markers of the datapoints\n",
    "    fig, ax = plt.subplots()\n",
    "    for xp, yp, m in zip(plot_x, plot_y, plot_marker):\n",
    "        ax.scatter([xp],[yp], marker=m, color='k')\n",
    "\n",
    "    # Add the random line used to generate the target function\n",
    "    x = np.linspace(-100,100,100)\n",
    "    yr = SLOPE*x+INTERCEPT\n",
    "    plt.plot(x,yr,'c', label='Target function')\n",
    "\n",
    "    # Add the learned hypothesis\n",
    "    # To plot the hypothesis, we need to convert the weights w0, w1, w2 into a line\n",
    "    y = (-w[1]/w[2])*x+(-w[0]/w[2])\n",
    "    plt.plot(x,y,'m',label='Hypothesis')\n",
    "\n",
    "    # Add axis labels and a legend\n",
    "    plt.ylabel('x2')\n",
    "    plt.xlabel('x1')\n",
    "    plt.legend()\n",
    "    plt.xlim(-MAX_VAL, MAX_VAL)\n",
    "    plt.ylim(-MAX_VAL, MAX_VAL)\n",
    "    plt.show()\n",
    "\n",
    "\n",
    "#CHANGE xn and yn to the  amount of generated datapoints!\n",
    "\n",
    "plot(x20, y20, w)"
   ],
   "metadata": {
    "collapsed": false,
    "pycharm": {
     "name": "#%%\n"
    }
   }
  }
 ],
 "metadata": {
  "kernelspec": {
   "display_name": "Python 3 (ipykernel)",
   "language": "python",
   "name": "python3"
  },
  "language_info": {
   "codemirror_mode": {
    "name": "ipython",
    "version": 3
   },
   "file_extension": ".py",
   "mimetype": "text/x-python",
   "name": "python",
   "nbconvert_exporter": "python",
   "pygments_lexer": "ipython3",
   "version": "3.9.7"
  }
 },
 "nbformat": 4,
 "nbformat_minor": 4
}